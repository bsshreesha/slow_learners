{
  "nbformat": 4,
  "nbformat_minor": 0,
  "metadata": {
    "colab": {
      "provenance": [],
      "authorship_tag": "ABX9TyOmLuHs6WX4dDySPh8RGFAV",
      "include_colab_link": true
    },
    "kernelspec": {
      "name": "python3",
      "display_name": "Python 3"
    },
    "language_info": {
      "name": "python"
    }
  },
  "cells": [
    {
      "cell_type": "markdown",
      "metadata": {
        "id": "view-in-github",
        "colab_type": "text"
      },
      "source": [
        "<a href=\"https://colab.research.google.com/github/bsshreesha/slow_learners/blob/main/Weak_Students_2022Scheme_Theory.ipynb\" target=\"_parent\"><img src=\"https://colab.research.google.com/assets/colab-badge.svg\" alt=\"Open In Colab\"/></a>"
      ]
    },
    {
      "cell_type": "code",
      "execution_count": null,
      "metadata": {
        "id": "uDjDxvzBoCg8"
      },
      "outputs": [],
      "source": [
        "import pandas as pd\n",
        "import matplotlib.pyplot as plt"
      ]
    },
    {
      "cell_type": "code",
      "source": [
        "import pandas as pd\n",
        "\n",
        "def load_and_clean(filepath):\n",
        "    try:\n",
        "        df = pd.read_excel(filepath, header=9)\n",
        "        df = df.iloc[2:]  # Skip header junk\n",
        "        df.columns = df.columns.str.strip()  # Clean up column names\n",
        "\n",
        "        # Extract the 'Student Name' column based on its position (assuming it's the second column)\n",
        "        df['Student Name'] = df.iloc[:, 1]\n",
        "\n",
        "        # Select the required columns: 'USN', 'Student Name', and 'Total'\n",
        "        df = df[['2023 - 2024', 'Student Name', 'Unnamed: 13']]\n",
        "        df.columns = ['USN', 'Student Name', 'Total']\n",
        "        df.dropna(subset=['USN', 'Student Name', 'Total'], inplace=True)\n",
        "        df['Total'] = pd.to_numeric(df['Total'], errors='coerce')\n",
        "        df.dropna(subset=['Total'], inplace=True)\n",
        "        return df.reset_index(drop=True)\n",
        "    except Exception as e:\n",
        "        print(f\"❌ Error loading file: {filepath}\")\n",
        "        print(f\"Error: {e}\")\n",
        "        return pd.DataFrame()\n",
        "\n",
        "# Load all 3 internals\n",
        "ia1 = load_and_clean('21IS63 IA1.xlsx')\n",
        "ia2 = load_and_clean('21IS63 IA2.xlsx')\n",
        "ia3 = load_and_clean('21IS63 IA3.xlsx')\n",
        "\n",
        "# Display the first few rows of each DataFrame to verify\n",
        "print(\"IA1:\")\n",
        "print(ia1.head())\n",
        "print(\"\\nIA2:\")\n",
        "print(ia2.head())\n",
        "print(\"\\nIA3:\")\n",
        "print(ia3.head())"
      ],
      "metadata": {
        "colab": {
          "base_uri": "https://localhost:8080/"
        },
        "id": "jFXdTazL_eKw",
        "outputId": "57f07f1c-a026-4f7e-f513-696494d064f2"
      },
      "execution_count": null,
      "outputs": [
        {
          "output_type": "stream",
          "name": "stdout",
          "text": [
            "IA1:\n",
            "          USN         Student Name  Total\n",
            "0  1JT21IS002        Aditya Sharma   23.0\n",
            "1  1JT21IS004    Amogh N Koundinya   14.0\n",
            "2  1JT21IS005        Aneeshkrishna   17.0\n",
            "3  1JT21IS006  Anirudh G Bharadwaj   14.0\n",
            "4  1JT21IS007        Anirudh Onkar   16.0\n",
            "\n",
            "IA2:\n",
            "          USN         Student Name  Total\n",
            "0  1JT21IS002        Aditya Sharma   23.0\n",
            "1  1JT21IS004    Amogh N Koundinya   18.0\n",
            "2  1JT21IS005        Aneeshkrishna   24.0\n",
            "3  1JT21IS006  Anirudh G Bharadwaj   27.0\n",
            "4  1JT21IS007        Anirudh Onkar   10.0\n",
            "\n",
            "IA3:\n",
            "          USN         Student Name  Total\n",
            "0  1JT21IS002        Aditya Sharma   22.0\n",
            "1  1JT21IS004    Amogh N Koundinya   25.0\n",
            "2  1JT21IS005        Aneeshkrishna   30.0\n",
            "3  1JT21IS006  Anirudh G Bharadwaj   23.0\n",
            "4  1JT21IS007        Anirudh Onkar   21.0\n"
          ]
        },
        {
          "output_type": "stream",
          "name": "stderr",
          "text": [
            "<ipython-input-70-823c72ed4a56>:10: SettingWithCopyWarning: \n",
            "A value is trying to be set on a copy of a slice from a DataFrame.\n",
            "Try using .loc[row_indexer,col_indexer] = value instead\n",
            "\n",
            "See the caveats in the documentation: https://pandas.pydata.org/pandas-docs/stable/user_guide/indexing.html#returning-a-view-versus-a-copy\n",
            "  df['Student Name'] = df.iloc[:, 1]\n"
          ]
        }
      ]
    },
    {
      "cell_type": "code",
      "source": [
        "# === Step 2: Identify Weak Students from IA1 (<=18) ===\n",
        "weak_threshold = 15\n",
        "weak_students = ia1[ia1['Total'] <= weak_threshold].copy()\n",
        "weak_students.columns = ['USN', 'Name', 'IA1_Total']\n",
        "\n",
        "# === Step 3: Merge IA2 and IA3 marks ===\n",
        "ia2_renamed = ia2.rename(columns={'Total': 'IA2_Total'})\n",
        "ia3_renamed = ia3.rename(columns={'Total': 'IA3_Total'})\n",
        "\n",
        "merged = weak_students.merge(ia2_renamed[['USN', 'IA2_Total']], on='USN', how='left')\n",
        "merged = merged.merge(ia3_renamed[['USN', 'IA3_Total']], on='USN', how='left')"
      ],
      "metadata": {
        "id": "FwC1121uoFdX"
      },
      "execution_count": null,
      "outputs": []
    },
    {
      "cell_type": "code",
      "source": [
        "# === Step 4: Mark Improvement ===\n",
        "def mark_improvement(before, after):\n",
        "    if pd.notna(before) and pd.notna(after) and after > before:\n",
        "        return 'Improved'\n",
        "    else:\n",
        "        return 'Not Improved'\n",
        "\n",
        "merged['IA2_Improvement'] = merged.apply(lambda row: mark_improvement(row['IA1_Total'], row['IA2_Total']), axis=1)\n",
        "merged['IA3_Improvement'] = merged.apply(lambda row: mark_improvement(row['IA2_Total'], row['IA3_Total']), axis=1)\n",
        "\n",
        "# === Step 5: Summary Stats ===\n",
        "total_students = len(ia1)\n",
        "total_weak = len(merged)\n",
        "ia2_improved = (merged['IA2_Improvement'] == 'Improved').sum()\n",
        "ia2_not_improved = (merged['IA2_Improvement'] == 'Not Improved').sum()\n",
        "ia3_improved = (merged['IA3_Improvement'] == 'Improved').sum()\n",
        "ia3_not_improved = (merged['IA3_Improvement'] == 'Not Improved').sum()\n",
        "\n",
        "# === Step 6: Horizontal Bar Chart Visualization ===\n",
        "# === Compute required stats ===\n",
        "import matplotlib.pyplot as plt\n",
        "\n",
        "# === Calculations ===\n",
        "total_weak = len(merged)\n",
        "ia2_improved = (merged['IA2_Improvement'] == 'Improved').sum()\n",
        "ia2_not_improved = (merged['IA2_Improvement'] == 'Not Improved').sum()\n",
        "\n",
        "weak_ia2 = merged[merged['IA2_Total'] <= 24]\n",
        "ia3_improved = (weak_ia2['IA3_Improvement'] == 'Improved').sum()\n",
        "ia3_not_improved = (weak_ia2['IA3_Improvement'] == 'Not Improved').sum()\n",
        "\n",
        "# === Plot Setup ===\n",
        "fig, ax = plt.subplots(figsize=(10, 6))\n",
        "bar_width = 0.3\n",
        "bar_positions = [0, 1]  # IA2 and IA3\n",
        "\n",
        "# === Background Bars ===\n",
        "ax.bar(bar_positions[0], total_weak, color='green', alpha=0.2, width=bar_width * 2, label='Total Weak (IA1)')\n",
        "ax.bar(bar_positions[1], len(weak_ia2), color='green', alpha=0.2, width=bar_width * 2)\n",
        "\n",
        "# === Total Count Annotations ===\n",
        "ax.text(bar_positions[0], total_weak + 1, f'Total: {total_weak}', ha='center', fontweight='bold', color='green')\n",
        "ax.text(bar_positions[1], len(weak_ia2) + 1, f'Total: {len(weak_ia2)}', ha='center', fontweight='bold', color='green')\n",
        "\n",
        "# === IA2 Bars (Reversed: Improved on Left) ===\n",
        "ax.bar(bar_positions[0] - bar_width / 2, ia2_improved, color='yellowgreen', width=bar_width, label='Improved')\n",
        "ax.bar(bar_positions[0] + bar_width / 2, ia2_not_improved, color='darkred', width=bar_width, label='Not Improved')\n",
        "\n",
        "# === IA3 Bars (Reversed: Improved on Left) ===\n",
        "ax.bar(bar_positions[1] - bar_width / 2, ia3_improved, color='yellowgreen', width=bar_width)\n",
        "ax.bar(bar_positions[1] + bar_width / 2, ia3_not_improved, color='darkred', width=bar_width)\n",
        "\n",
        "# === Value Annotations on Bars ===\n",
        "for x, y in zip(\n",
        "    [bar_positions[0] - bar_width / 2, bar_positions[0] + bar_width / 2,\n",
        "     bar_positions[1] - bar_width / 2, bar_positions[1] + bar_width / 2],\n",
        "    [ia2_improved, ia2_not_improved, ia3_improved, ia3_not_improved]\n",
        "):\n",
        "    ax.text(x, y + 0.5, str(y), ha='center', va='bottom', fontweight='bold', color='black')\n",
        "\n",
        "# === Axis Labels and Titles ===\n",
        "ax.set_xticks(bar_positions)\n",
        "ax.set_xticklabels(['IA2 Analysis', 'IA3 Analysis'])\n",
        "ax.set_ylabel(\"Number of Students\")\n",
        "ax.set_title(\"21IS63 - Improvement Tracking of Slow Learners in IA2 and IA3\")\n",
        "ax.set_ylim(0, max(total_weak, len(weak_ia2)) + 5)\n",
        "\n",
        "ax.legend(loc='upper right')\n",
        "plt.tight_layout()\n",
        "plt.box(True)\n",
        "plt.savefig(\"21IS63 - Performance_Summary.png\", bbox_inches='tight')\n",
        "plt.show()\n"
      ],
      "metadata": {
        "colab": {
          "base_uri": "https://localhost:8080/",
          "height": 607
        },
        "id": "aFdiquFOoFZx",
        "outputId": "6851f68a-47c7-4359-dbb4-05d18c7a9a4a"
      },
      "execution_count": null,
      "outputs": [
        {
          "output_type": "display_data",
          "data": {
            "text/plain": [
              "<Figure size 1000x600 with 1 Axes>"
            ],
            "image/png": "[encoded data removed]"
          },
          "metadata": {}
        }
      ]
    },
    {
      "cell_type": "code",
      "source": [
        "# === Step 7: Save Everything to Excel ===\n",
        "with pd.ExcelWriter('Student_IA_Improvement_Report_21IS63.xlsx') as writer:\n",
        "    ia1.to_excel(writer, sheet_name='IA1_Cleaned', index=False)\n",
        "    ia2.to_excel(writer, sheet_name='IA2_Cleaned', index=False)\n",
        "    ia3.to_excel(writer, sheet_name='IA3_Cleaned', index=False)\n",
        "    merged.to_excel(writer, sheet_name='Weak_Student_Analysis', index=False)\n",
        "\n",
        "print(\"✅ Report complete: 'Student_IA_Improvement_Report.xlsx' and 'performance_summary.png'\")"
      ],
      "metadata": {
        "colab": {
          "base_uri": "https://localhost:8080/"
        },
        "id": "buxWSq4SoFSK",
        "outputId": "ce3c47ad-5199-4916-dd66-2c94a0556167"
      },
      "execution_count": null,
      "outputs": [
        {
          "output_type": "stream",
          "name": "stdout",
          "text": [
            "✅ Report complete: 'Student_IA_Improvement_Report.xlsx' and 'performance_summary.png'\n"
          ]
        }
      ]
    },
    {
      "cell_type": "code",
      "source": [],
      "metadata": {
        "id": "ccOX5Ll6dc4F"
      },
      "execution_count": null,
      "outputs": []
    }
  ]
}